{
  "nbformat": 4,
  "nbformat_minor": 0,
  "metadata": {
    "colab": {
      "name": "python데이터사이언스.ipynb",
      "provenance": [],
      "collapsed_sections": [],
      "authorship_tag": "ABX9TyOMcrxMyZniIzbwVQBmMpvE",
      "include_colab_link": true
    },
    "kernelspec": {
      "name": "python3",
      "display_name": "Python 3"
    },
    "language_info": {
      "name": "python"
    }
  },
  "cells": [
    {
      "cell_type": "markdown",
      "metadata": {
        "id": "view-in-github",
        "colab_type": "text"
      },
      "source": [
        "<a href=\"https://colab.research.google.com/github/lfverit/python/blob/main/python%EB%8D%B0%EC%9D%B4%ED%84%B0%EC%82%AC%EC%9D%B4%EC%96%B8%EC%8A%A4.ipynb\" target=\"_parent\"><img src=\"https://colab.research.google.com/assets/colab-badge.svg\" alt=\"Open In Colab\"/></a>"
      ]
    },
    {
      "cell_type": "code",
      "execution_count": null,
      "metadata": {
        "colab": {
          "base_uri": "https://localhost:8080/"
        },
        "id": "vatSbKmUiHjY",
        "outputId": "e72ecb25-1b54-4952-c9d8-a78ff9978c20"
      },
      "outputs": [
        {
          "output_type": "execute_result",
          "data": {
            "text/plain": [
              "30"
            ]
          },
          "metadata": {},
          "execution_count": 9
        }
      ],
      "source": [
        "# 함수 호출시 아규먼트 입력 순서 테스트\n",
        "def func(x=10, y=20):\n",
        "  return x+y\n",
        "\n",
        "func()"
      ]
    },
    {
      "cell_type": "code",
      "source": [
        "func(20)"
      ],
      "metadata": {
        "colab": {
          "base_uri": "https://localhost:8080/"
        },
        "id": "hbjVe-fRiVbP",
        "outputId": "a65f1d43-50d7-4c28-9e25-f79f8bb00f22"
      },
      "execution_count": null,
      "outputs": [
        {
          "output_type": "execute_result",
          "data": {
            "text/plain": [
              "40"
            ]
          },
          "metadata": {},
          "execution_count": 10
        }
      ]
    },
    {
      "cell_type": "code",
      "source": [
        "func(,50) # maybe 60?\n",
        "# 두번째 아규먼트만 값을 넣기는 불가능"
      ],
      "metadata": {
        "colab": {
          "base_uri": "https://localhost:8080/",
          "height": 137
        },
        "id": "npz-nC7oiZAm",
        "outputId": "6ffcc9d7-e8a7-4daf-ad12-7e774126552d"
      },
      "execution_count": null,
      "outputs": [
        {
          "output_type": "error",
          "ename": "SyntaxError",
          "evalue": "ignored",
          "traceback": [
            "\u001b[0;36m  File \u001b[0;32m\"<ipython-input-11-5056c3d57f24>\"\u001b[0;36m, line \u001b[0;32m1\u001b[0m\n\u001b[0;31m    func(,50) # maybe 60?\u001b[0m\n\u001b[0m         ^\u001b[0m\n\u001b[0;31mSyntaxError\u001b[0m\u001b[0;31m:\u001b[0m invalid syntax\n"
          ]
        }
      ]
    },
    {
      "cell_type": "code",
      "source": [
        "func(50,)"
      ],
      "metadata": {
        "id": "KQiMBzPRoqJ9",
        "outputId": "287483e1-208f-4890-9bd4-ccc2637304ed",
        "colab": {
          "base_uri": "https://localhost:8080/"
        }
      },
      "execution_count": null,
      "outputs": [
        {
          "output_type": "execute_result",
          "data": {
            "text/plain": [
              "70"
            ]
          },
          "metadata": {},
          "execution_count": 13
        }
      ]
    },
    {
      "cell_type": "code",
      "source": [
        "# globals 함수 연습\n",
        "globals(). # dictionary 형태로 반환"
      ],
      "metadata": {
        "colab": {
          "base_uri": "https://localhost:8080/",
          "height": 137
        },
        "id": "BFEqBOMKicg2",
        "outputId": "d81ea5b5-5613-4cca-9022-347ed3357a0c"
      },
      "execution_count": null,
      "outputs": [
        {
          "output_type": "error",
          "ename": "SyntaxError",
          "evalue": "ignored",
          "traceback": [
            "\u001b[0;36m  File \u001b[0;32m\"<ipython-input-5-aacdaf17fbb2>\"\u001b[0;36m, line \u001b[0;32m2\u001b[0m\n\u001b[0;31m    globals(). # dictionary 형태로 반환\u001b[0m\n\u001b[0m                                  ^\u001b[0m\n\u001b[0;31mSyntaxError\u001b[0m\u001b[0;31m:\u001b[0m invalid syntax\n"
          ]
        }
      ]
    },
    {
      "cell_type": "code",
      "source": [
        ""
      ],
      "metadata": {
        "id": "uo3G1RPvooIC"
      },
      "execution_count": null,
      "outputs": []
    },
    {
      "cell_type": "code",
      "source": [
        "# mutilple keyword arguments test\n",
        "**kwargs = (a=1, b=2) # making dictionary failed"
      ],
      "metadata": {
        "colab": {
          "base_uri": "https://localhost:8080/",
          "height": 137
        },
        "id": "n-mod95Vi3dM",
        "outputId": "40d7b5db-dc72-4a4c-db20-71dac803e8df"
      },
      "execution_count": null,
      "outputs": [
        {
          "output_type": "error",
          "ename": "SyntaxError",
          "evalue": "ignored",
          "traceback": [
            "\u001b[0;36m  File \u001b[0;32m\"<ipython-input-6-35bfbe1a6495>\"\u001b[0;36m, line \u001b[0;32m2\u001b[0m\n\u001b[0;31m    **kwargs = (a=1, b=2) # making dictionary failed\u001b[0m\n\u001b[0m     ^\u001b[0m\n\u001b[0;31mSyntaxError\u001b[0m\u001b[0;31m:\u001b[0m invalid syntax\n"
          ]
        }
      ]
    },
    {
      "cell_type": "code",
      "source": [
        "def var_args(*args, **kwargs):\n",
        "  print(args)\n",
        "  print(kwargs)\n",
        "  args = list(args) + [*kwargs.values()]\n",
        "  return sum(args)\n",
        "\n",
        "var_args(1, b=2, c=10)\n",
        "var_args(1, b=2, c=10, 5)"
      ],
      "metadata": {
        "colab": {
          "base_uri": "https://localhost:8080/",
          "height": 137
        },
        "id": "kuPKyl3Vkn5l",
        "outputId": "41299e0f-9c8e-4ed8-fb84-ea6df15fb5f1"
      },
      "execution_count": null,
      "outputs": [
        {
          "output_type": "error",
          "ename": "SyntaxError",
          "evalue": "ignored",
          "traceback": [
            "\u001b[0;36m  File \u001b[0;32m\"<ipython-input-7-fa189f16cb46>\"\u001b[0;36m, line \u001b[0;32m8\u001b[0m\n\u001b[0;31m    var_args(1, b=2, c=10, 5)\u001b[0m\n\u001b[0m                          ^\u001b[0m\n\u001b[0;31mSyntaxError\u001b[0m\u001b[0;31m:\u001b[0m positional argument follows keyword argument\n"
          ]
        }
      ]
    },
    {
      "cell_type": "code",
      "source": [
        "# test : multiple * parameter not allowed. Only first * argument is allowed.\n",
        "def var_args(*args, **kwargs, *args1):\n",
        "  print(args)\n",
        "  print(kwargs)\n",
        "  args = list(args) + [*kwargs.values()]\n",
        "  return sum(args)\n",
        "\n",
        "var_args(1, b=2, c=10, 5)"
      ],
      "metadata": {
        "colab": {
          "base_uri": "https://localhost:8080/",
          "height": 137
        },
        "id": "2YC5-HhPljGG",
        "outputId": "f1c46cfc-ec80-4844-d0b5-bcbf96199944"
      },
      "execution_count": null,
      "outputs": [
        {
          "output_type": "error",
          "ename": "SyntaxError",
          "evalue": "ignored",
          "traceback": [
            "\u001b[0;36m  File \u001b[0;32m\"<ipython-input-8-77a50164b875>\"\u001b[0;36m, line \u001b[0;32m2\u001b[0m\n\u001b[0;31m    def var_args(*args, **kwargs, *args1):\u001b[0m\n\u001b[0m                                  ^\u001b[0m\n\u001b[0;31mSyntaxError\u001b[0m\u001b[0;31m:\u001b[0m invalid syntax\n"
          ]
        }
      ]
    },
    {
      "cell_type": "code",
      "source": [
        ""
      ],
      "metadata": {
        "id": "LI_Ly_aHl20f"
      },
      "execution_count": null,
      "outputs": []
    }
  ]
}